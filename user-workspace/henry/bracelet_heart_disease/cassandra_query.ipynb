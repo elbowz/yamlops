{
 "cells": [
  {
   "cell_type": "code",
   "execution_count": 13,
   "metadata": {},
   "outputs": [],
   "source": [
    "import pandas as pd\n",
    "from cassandra.cluster import Cluster"
   ]
  },
  {
   "cell_type": "code",
   "execution_count": 14,
   "metadata": {},
   "outputs": [],
   "source": [
    "cluster = Cluster(['cassandra'])\n",
    "session = cluster.connect('yamlops')"
   ]
  },
  {
   "cell_type": "code",
   "execution_count": 20,
   "metadata": {},
   "outputs": [],
   "source": [
    "rows = session.execute('SELECT age, sex, cp, trestbps, chol, fbs, restecg, thalach, exang, oldpeak, slope, ca, thal FROM bracelet')"
   ]
  },
  {
   "cell_type": "code",
   "execution_count": 21,
   "metadata": {},
   "outputs": [
    {
     "name": "stdout",
     "output_type": "stream",
     "text": [
      "Row(age=51.0, sex=1.0, cp=3.0, trestbps=100.0, chol=222.0, fbs=0.0, restecg=0.0, thalach=143.0, exang=1.0, oldpeak=1.2000000476837158, slope=2.0, ca=0.0, thal=3.0)\n",
      "Row(age=63.0, sex=1.0, cp=4.0, trestbps=130.0, chol=330.0, fbs=1.0, restecg=2.0, thalach=132.0, exang=1.0, oldpeak=1.7999999523162842, slope=1.0, ca=3.0, thal=7.0)\n",
      "Row(age=5.109000205993652, sex=6.701000213623047, cp=8.666000366210938, trestbps=1.8049999475479126, chol=-1.3760000467300415, fbs=2.3529999256134033, restecg=1.0329999923706055, thalach=-2.6649999618530273, exang=-7.0269999504089355, oldpeak=-6.409999847412109, slope=5.946000099182129, ca=1.3580000400543213, thal=5.712100028991699)\n",
      "Row(age=5.109000205993652, sex=6.701000213623047, cp=8.666000366210938, trestbps=1.8049999475479126, chol=-1.3760000467300415, fbs=2.3529999256134033, restecg=1.0329999923706055, thalach=-2.6649999618530273, exang=-7.0269999504089355, oldpeak=-6.409999847412109, slope=5.946000099182129, ca=1.3580000400543213, thal=5.712100028991699)\n",
      "Row(age=51.0, sex=1.0, cp=3.0, trestbps=100.0, chol=222.0, fbs=0.0, restecg=0.0, thalach=143.0, exang=1.0, oldpeak=1.2000000476837158, slope=2.0, ca=0.0, thal=3.0)\n",
      "Row(age=35.0, sex=0.0, cp=4.0, trestbps=138.0, chol=183.0, fbs=0.0, restecg=0.0, thalach=182.0, exang=0.0, oldpeak=1.399999976158142, slope=1.0, ca=0.0, thal=3.0)\n",
      "Row(age=65.0, sex=1.0, cp=1.0, trestbps=138.0, chol=282.0, fbs=1.0, restecg=2.0, thalach=174.0, exang=0.0, oldpeak=1.399999976158142, slope=2.0, ca=1.0, thal=3.0)\n",
      "Row(age=63.0, sex=1.0, cp=4.0, trestbps=130.0, chol=330.0, fbs=1.0, restecg=2.0, thalach=132.0, exang=1.0, oldpeak=1.7999999523162842, slope=1.0, ca=3.0, thal=7.0)\n",
      "Row(age=65.0, sex=1.0, cp=1.0, trestbps=138.0, chol=282.0, fbs=1.0, restecg=2.0, thalach=174.0, exang=0.0, oldpeak=1.399999976158142, slope=2.0, ca=1.0, thal=3.0)\n",
      "Row(age=55.0, sex=1.0, cp=4.0, trestbps=140.0, chol=217.0, fbs=0.0, restecg=0.0, thalach=111.0, exang=1.0, oldpeak=5.599999904632568, slope=3.0, ca=0.0, thal=7.0)\n",
      "Row(age=-3.6649999618530273, sex=6.701000213623047, cp=8.666000366210938, trestbps=-7.077000141143799, chol=-1.1360000371932983, fbs=-4.248000144958496, restecg=-9.836000442504883, thalach=-1.63100004196167, exang=-7.0269999504089355, oldpeak=2.694999933242798, slope=5.946000099182129, ca=3.2119998931884766, thal=1.0879000425338745)\n",
      "Row(age=48.0, sex=1.0, cp=4.0, trestbps=130.0, chol=256.0, fbs=1.0, restecg=2.0, thalach=150.0, exang=1.0, oldpeak=0.0, slope=1.0, ca=2.0, thal=7.0)\n",
      "Row(age=51.0, sex=1.0, cp=3.0, trestbps=100.0, chol=222.0, fbs=0.0, restecg=0.0, thalach=143.0, exang=1.0, oldpeak=1.2000000476837158, slope=2.0, ca=0.0, thal=3.0)\n",
      "Row(age=-1.13100004196167, sex=6.701000213623047, cp=8.666000366210938, trestbps=-1.277999997138977, chol=-9.569000244140625, fbs=-4.248000144958496, restecg=1.0329999923706055, thalach=1.2430000305175781, exang=-7.0269999504089355, oldpeak=-8.980999946594238, slope=-9.866000175476074, ca=3.2119998931884766, thal=-9.78882122039795)\n",
      "Row(age=58.0, sex=1.0, cp=3.0, trestbps=112.0, chol=230.0, fbs=0.0, restecg=2.0, thalach=165.0, exang=0.0, oldpeak=2.5, slope=2.0, ca=1.0, thal=7.0)\n",
      "Row(age=65.0, sex=1.0, cp=4.0, trestbps=135.0, chol=254.0, fbs=0.0, restecg=2.0, thalach=127.0, exang=0.0, oldpeak=2.799999952316284, slope=2.0, ca=1.0, thal=7.0)\n",
      "Row(age=65.0, sex=1.0, cp=4.0, trestbps=135.0, chol=254.0, fbs=0.0, restecg=2.0, thalach=127.0, exang=0.0, oldpeak=2.799999952316284, slope=2.0, ca=1.0, thal=7.0)\n",
      "Row(age=63.0, sex=0.0, cp=4.0, trestbps=150.0, chol=407.0, fbs=0.0, restecg=2.0, thalach=154.0, exang=0.0, oldpeak=4.0, slope=2.0, ca=3.0, thal=7.0)\n",
      "Row(age=48.0, sex=1.0, cp=4.0, trestbps=130.0, chol=256.0, fbs=1.0, restecg=2.0, thalach=150.0, exang=1.0, oldpeak=0.0, slope=1.0, ca=2.0, thal=7.0)\n",
      "Row(age=65.0, sex=1.0, cp=4.0, trestbps=135.0, chol=254.0, fbs=0.0, restecg=2.0, thalach=127.0, exang=0.0, oldpeak=2.799999952316284, slope=2.0, ca=1.0, thal=7.0)\n",
      "Row(age=63.0, sex=0.0, cp=4.0, trestbps=150.0, chol=407.0, fbs=0.0, restecg=2.0, thalach=154.0, exang=0.0, oldpeak=4.0, slope=2.0, ca=3.0, thal=7.0)\n",
      "Row(age=63.0, sex=0.0, cp=4.0, trestbps=150.0, chol=407.0, fbs=0.0, restecg=2.0, thalach=154.0, exang=0.0, oldpeak=4.0, slope=2.0, ca=3.0, thal=7.0)\n",
      "Row(age=5.109000205993652, sex=6.701000213623047, cp=8.666000366210938, trestbps=1.8049999475479126, chol=-1.3760000467300415, fbs=2.3529999256134033, restecg=1.0329999923706055, thalach=-2.6649999618530273, exang=-7.0269999504089355, oldpeak=-6.409999847412109, slope=5.946000099182129, ca=1.3580000400543213, thal=5.712100028991699)\n",
      "Row(age=35.0, sex=0.0, cp=4.0, trestbps=138.0, chol=183.0, fbs=0.0, restecg=0.0, thalach=182.0, exang=0.0, oldpeak=1.399999976158142, slope=1.0, ca=0.0, thal=3.0)\n",
      "Row(age=63.0, sex=1.0, cp=4.0, trestbps=130.0, chol=330.0, fbs=1.0, restecg=2.0, thalach=132.0, exang=1.0, oldpeak=1.7999999523162842, slope=1.0, ca=3.0, thal=7.0)\n",
      "Row(age=63.0, sex=0.0, cp=4.0, trestbps=150.0, chol=407.0, fbs=0.0, restecg=2.0, thalach=154.0, exang=0.0, oldpeak=4.0, slope=2.0, ca=3.0, thal=7.0)\n",
      "Row(age=35.0, sex=0.0, cp=4.0, trestbps=138.0, chol=183.0, fbs=0.0, restecg=0.0, thalach=182.0, exang=0.0, oldpeak=1.399999976158142, slope=1.0, ca=0.0, thal=3.0)\n",
      "Row(age=65.0, sex=1.0, cp=1.0, trestbps=138.0, chol=282.0, fbs=1.0, restecg=2.0, thalach=174.0, exang=0.0, oldpeak=1.399999976158142, slope=2.0, ca=1.0, thal=3.0)\n",
      "Row(age=7.285999774932861, sex=6.701000213623047, cp=8.666000366210938, trestbps=1.5759999752044678, chol=8.788000106811523, fbs=-4.248000144958496, restecg=1.0329999923706055, thalach=-1.9429999589920044, exang=1.4229999780654907, oldpeak=-2.309000015258789, slope=5.946000099182129, ca=3.2119998931884766, thal=1.0879000425338745)\n",
      "Row(age=48.0, sex=1.0, cp=4.0, trestbps=130.0, chol=256.0, fbs=1.0, restecg=2.0, thalach=150.0, exang=1.0, oldpeak=0.0, slope=1.0, ca=2.0, thal=7.0)\n",
      "Row(age=-1.13100004196167, sex=6.701000213623047, cp=8.666000366210938, trestbps=-1.277999997138977, chol=-9.569000244140625, fbs=-4.248000144958496, restecg=1.0329999923706055, thalach=1.2430000305175781, exang=-7.0269999504089355, oldpeak=-8.980999946594238, slope=-9.866000175476074, ca=3.2119998931884766, thal=-9.78882122039795)\n",
      "Row(age=7.285999774932861, sex=6.701000213623047, cp=8.666000366210938, trestbps=1.5759999752044678, chol=8.788000106811523, fbs=-4.248000144958496, restecg=1.0329999923706055, thalach=-1.9429999589920044, exang=1.4229999780654907, oldpeak=-2.309000015258789, slope=5.946000099182129, ca=3.2119998931884766, thal=1.0879000425338745)\n",
      "Row(age=-1.13100004196167, sex=6.701000213623047, cp=8.666000366210938, trestbps=-1.277999997138977, chol=-9.569000244140625, fbs=-4.248000144958496, restecg=1.0329999923706055, thalach=1.2430000305175781, exang=-7.0269999504089355, oldpeak=-8.980999946594238, slope=-9.866000175476074, ca=3.2119998931884766, thal=-9.78882122039795)\n",
      "Row(age=58.0, sex=1.0, cp=3.0, trestbps=112.0, chol=230.0, fbs=0.0, restecg=2.0, thalach=165.0, exang=0.0, oldpeak=2.5, slope=2.0, ca=1.0, thal=7.0)\n",
      "Row(age=65.0, sex=1.0, cp=4.0, trestbps=135.0, chol=254.0, fbs=0.0, restecg=2.0, thalach=127.0, exang=0.0, oldpeak=2.799999952316284, slope=2.0, ca=1.0, thal=7.0)\n",
      "Row(age=-1.13100004196167, sex=6.701000213623047, cp=8.666000366210938, trestbps=-1.277999997138977, chol=-9.569000244140625, fbs=-4.248000144958496, restecg=1.0329999923706055, thalach=1.2430000305175781, exang=-7.0269999504089355, oldpeak=-8.980999946594238, slope=-9.866000175476074, ca=3.2119998931884766, thal=-9.78882122039795)\n",
      "Row(age=58.0, sex=1.0, cp=3.0, trestbps=112.0, chol=230.0, fbs=0.0, restecg=2.0, thalach=165.0, exang=0.0, oldpeak=2.5, slope=2.0, ca=1.0, thal=7.0)\n",
      "Row(age=55.0, sex=1.0, cp=4.0, trestbps=140.0, chol=217.0, fbs=0.0, restecg=0.0, thalach=111.0, exang=1.0, oldpeak=5.599999904632568, slope=3.0, ca=0.0, thal=7.0)\n",
      "Row(age=55.0, sex=1.0, cp=4.0, trestbps=140.0, chol=217.0, fbs=0.0, restecg=0.0, thalach=111.0, exang=1.0, oldpeak=5.599999904632568, slope=3.0, ca=0.0, thal=7.0)\n",
      "Row(age=7.285999774932861, sex=6.701000213623047, cp=8.666000366210938, trestbps=1.5759999752044678, chol=8.788000106811523, fbs=-4.248000144958496, restecg=1.0329999923706055, thalach=-1.9429999589920044, exang=1.4229999780654907, oldpeak=-2.309000015258789, slope=5.946000099182129, ca=3.2119998931884766, thal=1.0879000425338745)\n",
      "Row(age=48.0, sex=1.0, cp=4.0, trestbps=130.0, chol=256.0, fbs=1.0, restecg=2.0, thalach=150.0, exang=1.0, oldpeak=0.0, slope=1.0, ca=2.0, thal=7.0)\n",
      "Row(age=48.0, sex=1.0, cp=4.0, trestbps=130.0, chol=256.0, fbs=1.0, restecg=2.0, thalach=150.0, exang=1.0, oldpeak=0.0, slope=1.0, ca=2.0, thal=7.0)\n",
      "Row(age=48.0, sex=1.0, cp=4.0, trestbps=130.0, chol=256.0, fbs=1.0, restecg=2.0, thalach=150.0, exang=1.0, oldpeak=0.0, slope=1.0, ca=2.0, thal=7.0)\n",
      "Row(age=35.0, sex=0.0, cp=4.0, trestbps=138.0, chol=183.0, fbs=0.0, restecg=0.0, thalach=182.0, exang=0.0, oldpeak=1.399999976158142, slope=1.0, ca=0.0, thal=3.0)\n",
      "Row(age=85.0, sex=1.0, cp=0.0, trestbps=128.0, chol=222.0, fbs=1.0, restecg=0.0, thalach=134.0, exang=0.0, oldpeak=1.2000000476837158, slope=1.0, ca=0.0, thal=2.0)\n",
      "Row(age=51.0, sex=1.0, cp=3.0, trestbps=100.0, chol=222.0, fbs=0.0, restecg=0.0, thalach=143.0, exang=1.0, oldpeak=1.2000000476837158, slope=2.0, ca=0.0, thal=3.0)\n",
      "Row(age=63.0, sex=0.0, cp=4.0, trestbps=150.0, chol=407.0, fbs=0.0, restecg=2.0, thalach=154.0, exang=0.0, oldpeak=4.0, slope=2.0, ca=3.0, thal=7.0)\n",
      "Row(age=58.0, sex=1.0, cp=3.0, trestbps=112.0, chol=230.0, fbs=0.0, restecg=2.0, thalach=165.0, exang=0.0, oldpeak=2.5, slope=2.0, ca=1.0, thal=7.0)\n",
      "Row(age=65.0, sex=1.0, cp=1.0, trestbps=138.0, chol=282.0, fbs=1.0, restecg=2.0, thalach=174.0, exang=0.0, oldpeak=1.399999976158142, slope=2.0, ca=1.0, thal=3.0)\n",
      "Row(age=7.285999774932861, sex=6.701000213623047, cp=8.666000366210938, trestbps=1.5759999752044678, chol=8.788000106811523, fbs=-4.248000144958496, restecg=1.0329999923706055, thalach=-1.9429999589920044, exang=1.4229999780654907, oldpeak=-2.309000015258789, slope=5.946000099182129, ca=3.2119998931884766, thal=1.0879000425338745)\n",
      "Row(age=65.0, sex=1.0, cp=4.0, trestbps=135.0, chol=254.0, fbs=0.0, restecg=2.0, thalach=127.0, exang=0.0, oldpeak=2.799999952316284, slope=2.0, ca=1.0, thal=7.0)\n",
      "Row(age=65.0, sex=1.0, cp=4.0, trestbps=135.0, chol=254.0, fbs=0.0, restecg=2.0, thalach=127.0, exang=0.0, oldpeak=2.799999952316284, slope=2.0, ca=1.0, thal=7.0)\n",
      "Row(age=65.0, sex=1.0, cp=1.0, trestbps=138.0, chol=282.0, fbs=1.0, restecg=2.0, thalach=174.0, exang=0.0, oldpeak=1.399999976158142, slope=2.0, ca=1.0, thal=3.0)\n",
      "Row(age=55.0, sex=1.0, cp=4.0, trestbps=140.0, chol=217.0, fbs=0.0, restecg=0.0, thalach=111.0, exang=1.0, oldpeak=5.599999904632568, slope=3.0, ca=0.0, thal=7.0)\n",
      "Row(age=58.0, sex=1.0, cp=3.0, trestbps=112.0, chol=230.0, fbs=0.0, restecg=2.0, thalach=165.0, exang=0.0, oldpeak=2.5, slope=2.0, ca=1.0, thal=7.0)\n",
      "Row(age=63.0, sex=0.0, cp=4.0, trestbps=150.0, chol=407.0, fbs=0.0, restecg=2.0, thalach=154.0, exang=0.0, oldpeak=4.0, slope=2.0, ca=3.0, thal=7.0)\n",
      "Row(age=5.109000205993652, sex=6.701000213623047, cp=8.666000366210938, trestbps=1.8049999475479126, chol=-1.3760000467300415, fbs=2.3529999256134033, restecg=1.0329999923706055, thalach=-2.6649999618530273, exang=-7.0269999504089355, oldpeak=-6.409999847412109, slope=5.946000099182129, ca=1.3580000400543213, thal=5.712100028991699)\n",
      "Row(age=51.0, sex=1.0, cp=3.0, trestbps=100.0, chol=222.0, fbs=0.0, restecg=0.0, thalach=143.0, exang=1.0, oldpeak=1.2000000476837158, slope=2.0, ca=0.0, thal=3.0)\n",
      "Row(age=65.0, sex=1.0, cp=1.0, trestbps=138.0, chol=282.0, fbs=1.0, restecg=2.0, thalach=174.0, exang=0.0, oldpeak=1.399999976158142, slope=2.0, ca=1.0, thal=3.0)\n",
      "Row(age=63.0, sex=1.0, cp=4.0, trestbps=130.0, chol=330.0, fbs=1.0, restecg=2.0, thalach=132.0, exang=1.0, oldpeak=1.7999999523162842, slope=1.0, ca=3.0, thal=7.0)\n",
      "Row(age=58.0, sex=1.0, cp=3.0, trestbps=112.0, chol=230.0, fbs=0.0, restecg=2.0, thalach=165.0, exang=0.0, oldpeak=2.5, slope=2.0, ca=1.0, thal=7.0)\n",
      "Row(age=35.0, sex=0.0, cp=4.0, trestbps=138.0, chol=183.0, fbs=0.0, restecg=0.0, thalach=182.0, exang=0.0, oldpeak=1.399999976158142, slope=1.0, ca=0.0, thal=3.0)\n",
      "Row(age=35.0, sex=0.0, cp=4.0, trestbps=138.0, chol=183.0, fbs=0.0, restecg=0.0, thalach=182.0, exang=0.0, oldpeak=1.399999976158142, slope=1.0, ca=0.0, thal=3.0)\n",
      "Row(age=-3.6649999618530273, sex=6.701000213623047, cp=8.666000366210938, trestbps=-7.077000141143799, chol=-1.1360000371932983, fbs=-4.248000144958496, restecg=-9.836000442504883, thalach=-1.63100004196167, exang=-7.0269999504089355, oldpeak=2.694999933242798, slope=5.946000099182129, ca=3.2119998931884766, thal=1.0879000425338745)\n",
      "Row(age=63.0, sex=1.0, cp=4.0, trestbps=130.0, chol=330.0, fbs=1.0, restecg=2.0, thalach=132.0, exang=1.0, oldpeak=1.7999999523162842, slope=1.0, ca=3.0, thal=7.0)\n",
      "Row(age=-3.6649999618530273, sex=6.701000213623047, cp=8.666000366210938, trestbps=-7.077000141143799, chol=-1.1360000371932983, fbs=-4.248000144958496, restecg=-9.836000442504883, thalach=-1.63100004196167, exang=-7.0269999504089355, oldpeak=2.694999933242798, slope=5.946000099182129, ca=3.2119998931884766, thal=1.0879000425338745)\n",
      "Row(age=55.0, sex=1.0, cp=4.0, trestbps=140.0, chol=217.0, fbs=0.0, restecg=0.0, thalach=111.0, exang=1.0, oldpeak=5.599999904632568, slope=3.0, ca=0.0, thal=7.0)\n",
      "Row(age=63.0, sex=1.0, cp=4.0, trestbps=130.0, chol=330.0, fbs=1.0, restecg=2.0, thalach=132.0, exang=1.0, oldpeak=1.7999999523162842, slope=1.0, ca=3.0, thal=7.0)\n",
      "Row(age=51.0, sex=1.0, cp=3.0, trestbps=100.0, chol=222.0, fbs=0.0, restecg=0.0, thalach=143.0, exang=1.0, oldpeak=1.2000000476837158, slope=2.0, ca=0.0, thal=3.0)\n",
      "Row(age=-3.6649999618530273, sex=6.701000213623047, cp=8.666000366210938, trestbps=-7.077000141143799, chol=-1.1360000371932983, fbs=-4.248000144958496, restecg=-9.836000442504883, thalach=-1.63100004196167, exang=-7.0269999504089355, oldpeak=2.694999933242798, slope=5.946000099182129, ca=3.2119998931884766, thal=1.0879000425338745)\n",
      "Row(age=55.0, sex=1.0, cp=4.0, trestbps=140.0, chol=217.0, fbs=0.0, restecg=0.0, thalach=111.0, exang=1.0, oldpeak=5.599999904632568, slope=3.0, ca=0.0, thal=7.0)\n"
     ]
    }
   ],
   "source": [
    "for row in rows:\n",
    "    print(row)"
   ]
  },
  {
   "cell_type": "code",
   "execution_count": null,
   "metadata": {},
   "outputs": [],
   "source": []
  }
 ],
 "metadata": {
  "kernelspec": {
   "display_name": "Python 3",
   "language": "python",
   "name": "python3"
  },
  "language_info": {
   "codemirror_mode": {
    "name": "ipython",
    "version": 3
   },
   "file_extension": ".py",
   "mimetype": "text/x-python",
   "name": "python",
   "nbconvert_exporter": "python",
   "pygments_lexer": "ipython3",
   "version": "3.7.3"
  }
 },
 "nbformat": 4,
 "nbformat_minor": 4
}
