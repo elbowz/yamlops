{
 "cells": [
  {
   "cell_type": "code",
   "execution_count": 31,
   "metadata": {},
   "outputs": [],
   "source": [
    "import pandas as pd\n",
    "import numpy as np\n",
    "\n",
    "# tracking and versioning by mlflow\n",
    "import mlflow\n",
    "import mlflow.sklearn\n",
    "\n",
    "# set experiment name\n",
    "mlflow.set_experiment('bracelet')"
   ]
  },
  {
   "cell_type": "code",
   "execution_count": 32,
   "metadata": {},
   "outputs": [
    {
     "data": {
      "image/png": "[encoded data removed]",
      "text/plain": [
       "<Figure size 434.61x360 with 1 Axes>"
      ]
     },
     "metadata": {
      "needs_background": "light"
     },
     "output_type": "display_data"
    }
   ],
   "source": [
    "df = pd.read_csv('cleveland.csv', header = None)\n",
    "\n",
    "df.columns = ['age', 'sex', 'cp', 'trestbps', 'chol',\n",
    "              'fbs', 'restecg', 'thalach', 'exang', \n",
    "              'oldpeak', 'slope', 'ca', 'thal', 'target']\n",
    "\n",
    "### 1 = male, 0 = female\n",
    "df.isnull().sum()\n",
    "\n",
    "df['target'] = df.target.map({0: 0, 1: 1, 2: 1, 3: 1, 4: 1})\n",
    "df['sex'] = df.sex.map({0: 'female', 1: 'male'})\n",
    "df['thal'] = df.thal.fillna(df.thal.mean())\n",
    "df['ca'] = df.ca.fillna(df.ca.mean())\n",
    "df['sex'] = df.sex.map({'female': 0, 'male': 1})\n",
    "\n",
    "import matplotlib.pyplot as plt\n",
    "import seaborn as sns\n",
    "\n",
    "# distribution of target vs age \n",
    "sns.set_context(\"paper\", font_scale = 2, rc = {\"font.size\": 20,\"axes.titlesize\": 25,\"axes.labelsize\": 20}) \n",
    "sns.catplot(kind = 'count', data = df, x = 'age', hue = 'target', order = df['age'].sort_values().unique())\n",
    "plt.title('Variation of Age for each target class')\n",
    "plt.savefig('distribution_target_vs_age.png')\n",
    "plt.show() "
   ]
  },
  {
   "cell_type": "code",
   "execution_count": 33,
   "metadata": {},
   "outputs": [],
   "source": [
    "########### data preprocessing ###########\n",
    "\n",
    "X = df.iloc[:, :-1].values\n",
    "y = df.iloc[:, -1].values\n",
    "\n",
    "from sklearn.model_selection import train_test_split\n",
    "X_train, X_test, y_train, y_test = train_test_split(X, y, test_size = 0.2, random_state = 0)\n",
    "\n",
    "from sklearn.preprocessing import StandardScaler as ss\n",
    "sc = ss()\n",
    "X_train = sc.fit_transform(X_train)\n",
    "X_test = sc.transform(X_test)"
   ]
  },
  {
   "cell_type": "code",
   "execution_count": 34,
   "metadata": {},
   "outputs": [],
   "source": [
    "from sklearn.metrics import mean_squared_error, mean_absolute_error, r2_score\n",
    "\n",
    "def eval_metrics(actual, pred):\n",
    "    rmse = np.sqrt(mean_squared_error(actual, pred))\n",
    "    mae = mean_absolute_error(actual, pred)\n",
    "    r2 = r2_score(actual, pred)\n",
    "    return rmse, mae, r2"
   ]
  },
  {
   "cell_type": "code",
   "execution_count": 35,
   "metadata": {},
   "outputs": [],
   "source": [
    "###########   SVM   ###########\n",
    "def train_SVM(kernel='rbf', degree=3):\n",
    "    \n",
    "    with mlflow.start_run(run_name='SVM'):\n",
    "        \n",
    "        from sklearn.svm import SVC\n",
    "        classifier = SVC(kernel = kernel, degree = degree)\n",
    "        classifier.fit(X_train, y_train)\n",
    "\n",
    "        # Predicting the Test set results\n",
    "        y_pred = classifier.predict(X_test)\n",
    "\n",
    "        from sklearn.metrics import confusion_matrix\n",
    "        cm_test = confusion_matrix(y_pred, y_test)\n",
    "\n",
    "        y_pred_train = classifier.predict(X_train)\n",
    "        cm_train = confusion_matrix(y_pred_train, y_train)\n",
    "        \n",
    "        accuracy_test_set = (cm_test[0][0] + cm_test[1][1])/len(y_test)\n",
    "        accuracy_training_set = (cm_train[0][0] + cm_train[1][1])/len(y_train)\n",
    "        (rmse, mae, r2) = eval_metrics(y_test, y_pred)\n",
    "        \n",
    "        # set experiment name\n",
    "        mlflow.set_experiment('bracelet')\n",
    "        \n",
    "        # Log parameter, metrics, and model to MLflow\n",
    "        mlflow.log_param(\"kernel\", kernel)\n",
    "        mlflow.log_param(\"degree\", degree)\n",
    "        \n",
    "        mlflow.log_metric(\"Accuracy\", accuracy_test_set)\n",
    "        mlflow.log_metric(\"Accuracy TrainingSet\", accuracy_training_set)\n",
    "        mlflow.log_metric(\"mae\", mae)\n",
    "        mlflow.log_metric(\"rmse\", rmse)\n",
    "        mlflow.log_metric(\"r2\", r2)\n",
    "        mlflow.log_metric(\"mae\", mae)\n",
    "        \n",
    "        # Add tag to MLflow log\n",
    "        mlflow.set_tag('model', 'SVM')\n",
    "        mlflow.set_tag('stage', 'experimental')\n",
    "        \n",
    "        # Add DataSet to artifacts\n",
    "        mlflow.log_artifact('./cleveland.csv')\n",
    "        \n",
    "        mlflow.sklearn.log_model(classifier, \"model\")\n",
    "        \n",
    "        # Print out metrics\n",
    "        print(\"SVM model (kernel=%s, degree=%s):\" % (kernel, degree))\n",
    "        print('  Accuracy for TestSet %s' % accuracy_test_set)\n",
    "        print('  Accuracy for TrainingSet %s' % accuracy_training_set)\n",
    "        print(\"  RMSE: %s\" % rmse)\n",
    "        print(\"  MAE: %s\" % mae)\n",
    "        print(\"  R2: %s\" % r2)"
   ]
  },
  {
   "cell_type": "code",
   "execution_count": 36,
   "metadata": {},
   "outputs": [
    {
     "name": "stdout",
     "output_type": "stream",
     "text": [
      "SVM model (kernel=rbf, degree=3):\n",
      "  Accuracy for TestSet 0.8032786885245902\n",
      "  Accuracy for TrainingSet 0.9256198347107438\n",
      "  RMSE: 0.4435327625727437\n",
      "  MAE: 0.19672131147540983\n",
      "  R2: 0.19560439560439558\n"
     ]
    }
   ],
   "source": [
    "train_SVM()"
   ]
  },
  {
   "cell_type": "code",
   "execution_count": null,
   "metadata": {},
   "outputs": [],
   "source": []
  }
 ],
 "metadata": {
  "kernelspec": {
   "display_name": "Python 3",
   "language": "python",
   "name": "python3"
  },
  "language_info": {
   "codemirror_mode": {
    "name": "ipython",
    "version": 3
   },
   "file_extension": ".py",
   "mimetype": "text/x-python",
   "name": "python",
   "nbconvert_exporter": "python",
   "pygments_lexer": "ipython3",
   "version": "3.7.3"
  }
 },
 "nbformat": 4,
 "nbformat_minor": 4
}
